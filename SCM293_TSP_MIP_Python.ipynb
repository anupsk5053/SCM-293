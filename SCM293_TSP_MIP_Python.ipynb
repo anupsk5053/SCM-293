{
 "cells": [
  {
   "cell_type": "markdown",
   "metadata": {},
   "source": [
    "# MIP Model of the TSP\n",
    "## Import Packages & Checks"
   ]
  },
  {
   "cell_type": "code",
   "execution_count": 1,
   "metadata": {},
   "outputs": [],
   "source": [
    "import sys\n",
    "import numpy as np\n",
    "import math\n",
    "import random\n",
    "\n",
    "import gurobipy as gp\n",
    "from gurobipy import GRB\n",
    "from gurobipy import quicksum\n",
    "\n",
    "import matplotlib.pyplot as plt"
   ]
  },
  {
   "cell_type": "code",
   "execution_count": 2,
   "metadata": {
    "ExecuteTime": {
     "end_time": "2020-01-13T15:49:36.823125Z",
     "start_time": "2020-01-13T16:49:36.815432+01:00"
    }
   },
   "outputs": [
    {
     "name": "stdout",
     "output_type": "stream",
     "text": [
      "3.6.12 |Anaconda, Inc.| (default, Sep  8 2020, 17:50:39) \n",
      "[GCC Clang 10.0.0 ]\n"
     ]
    }
   ],
   "source": [
    "print(sys.version)"
   ]
  },
  {
   "cell_type": "markdown",
   "metadata": {},
   "source": [
    "## Define Classes"
   ]
  },
  {
   "cell_type": "markdown",
   "metadata": {},
   "source": [
    "### Customer Nodes"
   ]
  },
  {
   "cell_type": "code",
   "execution_count": 3,
   "metadata": {},
   "outputs": [],
   "source": [
    "class customer:\n",
    "    '''===================\n",
    "    Single Customer Class:\n",
    "    ======================\n",
    "    A customer is characterized by \n",
    "    - a (unique) ID\n",
    "    - a location (x and y coordiantes)\n",
    "\n",
    "    '''\n",
    "    \n",
    "    def __init__(self,\n",
    "                x,\n",
    "                y,\n",
    "                cust_ID):         # customer ID\n",
    "\n",
    "        self.cust_ID = str(cust_ID)\n",
    "        self.x = float(x)\n",
    "        self.y = float(y)\n",
    "        self.loc = (self.x,self.y)\n",
    "        "
   ]
  },
  {
   "cell_type": "markdown",
   "metadata": {},
   "source": [
    "## Define Functions"
   ]
  },
  {
   "cell_type": "markdown",
   "metadata": {},
   "source": [
    "### Compute Distance Matrix"
   ]
  },
  {
   "cell_type": "code",
   "execution_count": 4,
   "metadata": {},
   "outputs": [],
   "source": [
    "def calc_dist(orig,dest):\n",
    "    '''===================\n",
    "    Distance Function:\n",
    "    ======================\n",
    "\n",
    "    Inputs:\n",
    "    - orig : customer object : customer from which the distance is measured\n",
    "    - dest : customer object : customer to which the distance is measured\n",
    "    \n",
    "    Outputs:\n",
    "    - Distance (here: Euclidian) between the origina nd destination customer\n",
    "    \n",
    "    '''\n",
    "    return math.sqrt((orig[0]-dest[0])**2+(orig[1]-dest[1])**2)\n"
   ]
  },
  {
   "cell_type": "code",
   "execution_count": 5,
   "metadata": {},
   "outputs": [],
   "source": [
    "def d_matrix(customers):\n",
    "    '''===================\n",
    "    Distance Matrix Function:\n",
    "    ======================\n",
    "\n",
    "    Inputs:\n",
    "    - customers : dictionary of customer objects : customers between which distances are measured\n",
    "    \n",
    "    Outputs:\n",
    "    - Matrix of distances (here: Euclidian) between all possible customer pairs\n",
    "    \n",
    "    '''\n",
    "    return dict(\n",
    "        [((i,j),calc_dist(customers[i].loc,customers[j].loc)) \n",
    "         for i in customers for j in customers]\n",
    "    )"
   ]
  },
  {
   "cell_type": "markdown",
   "metadata": {},
   "source": [
    "### Plot Customers and TSP Path"
   ]
  },
  {
   "cell_type": "code",
   "execution_count": 6,
   "metadata": {},
   "outputs": [],
   "source": [
    "def print_cust(customers):\n",
    "    '''===================\n",
    "    Print Customers Function:\n",
    "    ======================\n",
    "\n",
    "    Inputs:\n",
    "    - customers : dictionary of customer objects : customers between which distances are measured\n",
    "    \n",
    "    Outputs:\n",
    "    - None\n",
    "    \n",
    "    '''\n",
    "    \n",
    "    # Plot customer locations\n",
    "    x = [customers[i].x for i in customers]\n",
    "    y = [customers[i].y for i in customers]\n",
    "\n",
    "    plt.scatter(x, y)\n",
    "    plt.show()"
   ]
  },
  {
   "cell_type": "code",
   "execution_count": 7,
   "metadata": {},
   "outputs": [],
   "source": [
    "def print_TSP(customers,X):\n",
    "    '''===================\n",
    "    Print TSP Function:\n",
    "    ======================\n",
    "\n",
    "    Inputs:\n",
    "    - customers : dictionary of customer objects : customers between which distances are measured\n",
    "    - X : dictionary of Gurobi decision variables : routing decisions in the optimal solution\n",
    "    \n",
    "    Outputs:\n",
    "    - None\n",
    "    \n",
    "    '''\n",
    "    \n",
    "    # Extract the vehicle trajectory from the optimal solution to the TSP\n",
    "    # 1. Set (arbitrary) custoemr to start the trajectory at\n",
    "    i = \"C_1\"\n",
    "    # 2. Determine x and y coordinates of that customer and record them\n",
    "    locslist_x = [customers[i].x]\n",
    "    locslist_y = [customers[i].y]\n",
    "    # 3. Record that you have visited one ciustomer already\n",
    "    n_done = 1\n",
    "    \n",
    "    # 4. While you have not yet visited all customers (i.e., no full circle)\n",
    "    while n_done <= n_customers:\n",
    "        # - Find next customer along the optimal TSP path\n",
    "        for j in customers:\n",
    "            if ((i,j) in X) and (round(X[(i,j)].x) == 1):\n",
    "                # - Determine x and y coordinates of that customer and record them\n",
    "                locslist_x.append(customers[j].x)\n",
    "                locslist_y.append(customers[j].y)\n",
    "                # - Record that this is now the last visited customer\n",
    "                i = j\n",
    "                # - Increase the number of customers visited\n",
    "                n_done = n_done+1\n",
    "                # - Break out of this For Loop, since you found the next customer\n",
    "                break\n",
    "\n",
    "    # Plot customer locations\n",
    "    x = [customers[i].x for i in customers]\n",
    "    y = [customers[i].y for i in customers]\n",
    "    plt.scatter(x, y)\n",
    "    # Plot TSP path between them\n",
    "    plt.plot(locslist_x, locslist_y, 'ro-')\n",
    "    plt.show()\n",
    "    "
   ]
  },
  {
   "cell_type": "markdown",
   "metadata": {},
   "source": [
    "## Initialize Problem"
   ]
  },
  {
   "cell_type": "markdown",
   "metadata": {},
   "source": [
    "Basic Parameters"
   ]
  },
  {
   "cell_type": "code",
   "execution_count": 8,
   "metadata": {},
   "outputs": [],
   "source": [
    "# Number of customers\n",
    "n_customers = 30\n",
    "\n",
    "# Dimensions of the demand area\n",
    "area_width = 100\n",
    "area_height = 100"
   ]
  },
  {
   "cell_type": "markdown",
   "metadata": {},
   "source": [
    "Customers"
   ]
  },
  {
   "cell_type": "code",
   "execution_count": 9,
   "metadata": {
    "scrolled": true
   },
   "outputs": [],
   "source": [
    "# Here: \n",
    "# - randomly generate n customer locations\n",
    "# - create custumer objects for each customer\n",
    "customers = dict(\n",
    "[(\"C_\"+str(i+1), customer(random.uniform(0,area_width),random.uniform(0,area_height),\"C_\"+str(i+1))) \n",
    " for i in range(n_customers)]\n",
    ")"
   ]
  },
  {
   "cell_type": "code",
   "execution_count": 10,
   "metadata": {},
   "outputs": [
    {
     "data": {
      "image/png": "[encoded data removed]",
      "text/plain": [
       "<Figure size 432x288 with 1 Axes>"
      ]
     },
     "metadata": {
      "needs_background": "light"
     },
     "output_type": "display_data"
    }
   ],
   "source": [
    "#Plot the customer locations\n",
    "print_cust(customers)"
   ]
  },
  {
   "cell_type": "markdown",
   "metadata": {},
   "source": [
    "Distances"
   ]
  },
  {
   "cell_type": "code",
   "execution_count": 11,
   "metadata": {},
   "outputs": [],
   "source": [
    "# Compute distance matrix between these customers\n",
    "distances = d_matrix(customers)"
   ]
  },
  {
   "cell_type": "markdown",
   "metadata": {},
   "source": [
    "## Build Gurobi Model"
   ]
  },
  {
   "cell_type": "markdown",
   "metadata": {},
   "source": [
    "__Initialize New Gurobi Model__"
   ]
  },
  {
   "cell_type": "code",
   "execution_count": 12,
   "metadata": {},
   "outputs": [
    {
     "name": "stdout",
     "output_type": "stream",
     "text": [
      "Academic license - for non-commercial use only - expires 2021-04-18\n",
      "Using license file /Users/mwinkenb/gurobi.lic\n"
     ]
    }
   ],
   "source": [
    "# Initialize new Gurobi Model\n",
    "m = gp.Model(\"TSP\")"
   ]
  },
  {
   "cell_type": "markdown",
   "metadata": {},
   "source": [
    "__Add Decision Variables__\n",
    "\n",
    "- Routing variables (binary)\n",
    "- Auxiliary variables (integer)"
   ]
  },
  {
   "cell_type": "code",
   "execution_count": 13,
   "metadata": {},
   "outputs": [],
   "source": [
    "# Create variables:\n",
    "\n",
    "# - Routing decisions on arcs of the network\n",
    "X = dict(\n",
    "    [((i,j), m.addVar(vtype=GRB.BINARY, name=\"x_%s_%s\" %(i,j))) \n",
    "     for i in customers for j in customers]\n",
    ")\n",
    "\n",
    "# - Auxiliary variables for sub-tour elimination\n",
    "U = dict(\n",
    "    [(list(customers)[i], m.addVar(vtype=GRB.INTEGER, name=\"u_%s\" %list(customers)[i])) \n",
    "     for i in range(len(customers)) if i+1 >= 2]\n",
    ")"
   ]
  },
  {
   "cell_type": "markdown",
   "metadata": {},
   "source": [
    "__Set Optimization Objective__\n",
    "\n",
    "Minimize total distance travelled"
   ]
  },
  {
   "cell_type": "code",
   "execution_count": 14,
   "metadata": {},
   "outputs": [],
   "source": [
    "# Set objective: minimize total TSP distance\n",
    "m.setObjective(\n",
    "    quicksum([distances[(i,j)]*X[(i,j)] \n",
    "              for i in customers \n",
    "              for j in customers if j != i]), \n",
    "    GRB.MINIMIZE)"
   ]
  },
  {
   "cell_type": "markdown",
   "metadata": {},
   "source": [
    "__Add Constraints__"
   ]
  },
  {
   "cell_type": "code",
   "execution_count": 15,
   "metadata": {
    "scrolled": true
   },
   "outputs": [],
   "source": [
    "# Add constraints:\n",
    "# - Flow conservation constraints\n",
    "Flow_cons_1 = dict(\n",
    "    [(j,m.addConstr(quicksum([X[(i,j)] for i in customers if i != j]) == 1, \"single_in_%s\" %j)) \n",
    "     for j in customers]\n",
    ")\n",
    "\n",
    "Flow_cons_2 = dict(\n",
    "    [(j,m.addConstr(quicksum([X[(j,i)] for i in customers if i != j]) == 1, \"single_out_%s\" %j)) \n",
    "     for j in customers]\n",
    ")\n",
    "\n",
    "# - Subtour elimination constraints\n",
    "Subtour = dict(\n",
    "    [((i,j),m.addConstr(U[i]-U[j]+n_customers*X[(i,j)] <= n_customers-1, \"subtour_%s_%s\" %(i,j))) \n",
    "     for i in customers for j in customers if (i != \"C_1\" and j != \"C_1\" and i != j)]\n",
    ")\n",
    "\n",
    "# - restricting the variable domains\n",
    "Domain_1 = dict(\n",
    "    [(i,m.addConstr(U[i] <= n_customers-1, \"u_domain_ub_%s\" %i)) \n",
    "     for i in customers if i != \"C_1\"]\n",
    ")\n",
    "\n",
    "Domain_2 = dict(\n",
    "    [(i,m.addConstr(U[i] >= 0, \"u_domain_lb_%s\" %i)) \n",
    "     for i in customers if i != \"C_1\"]\n",
    ")"
   ]
  },
  {
   "cell_type": "markdown",
   "metadata": {},
   "source": [
    "__Run Optimization Model__"
   ]
  },
  {
   "cell_type": "code",
   "execution_count": 16,
   "metadata": {},
   "outputs": [
    {
     "name": "stdout",
     "output_type": "stream",
     "text": [
      "Changed value of parameter timelimit to 300.0\n",
      "   Prev: inf  Min: 0.0  Max: inf  Default: inf\n",
      "Changed value of parameter MIPGap to 0.001\n",
      "   Prev: 0.0001  Min: 0.0  Max: inf  Default: 0.0001\n",
      "Gurobi Optimizer version 9.1.1 build v9.1.1rc0 (mac64)\n",
      "Thread count: 8 physical cores, 16 logical processors, using up to 16 threads\n",
      "Optimize a model with 930 rows, 929 columns and 4234 nonzeros\n",
      "Model fingerprint: 0xd79101ee\n",
      "Variable types: 0 continuous, 929 integer (900 binary)\n",
      "Coefficient statistics:\n",
      "  Matrix range     [1e+00, 3e+01]\n",
      "  Objective range  [9e-01, 1e+02]\n",
      "  Bounds range     [1e+00, 1e+00]\n",
      "  RHS range        [1e+00, 3e+01]\n",
      "Presolve removed 58 rows and 30 columns\n",
      "Presolve time: 0.01s\n",
      "Presolved: 872 rows, 899 columns, 4176 nonzeros\n",
      "Variable types: 0 continuous, 899 integer (870 binary)\n",
      "Found heuristic solution: objective 1478.4941462\n",
      "\n",
      "Root relaxation: objective 3.884223e+02, 93 iterations, 0.00 seconds\n",
      "\n",
      "    Nodes    |    Current Node    |     Objective Bounds      |     Work\n",
      " Expl Unexpl |  Obj  Depth IntInf | Incumbent    BestBd   Gap | It/Node Time\n",
      "\n",
      "     0     0  388.42233    0   53 1478.49415  388.42233  73.7%     -    0s\n",
      "H    0     0                     606.7892837  388.42233  36.0%     -    0s\n",
      "H    0     0                     587.8621611  392.10365  33.3%     -    0s\n",
      "     0     0  435.92627    0   64  587.86216  435.92627  25.8%     -    0s\n",
      "H    0     0                     586.4172493  435.92627  25.7%     -    0s\n",
      "     0     0  435.92627    0   67  586.41725  435.92627  25.7%     -    0s\n",
      "     0     0  436.06690    0   87  586.41725  436.06690  25.6%     -    0s\n",
      "     0     0  436.06690    0   86  586.41725  436.06690  25.6%     -    0s\n",
      "H    0     0                     574.6748861  436.06690  24.1%     -    0s\n",
      "     0     0  441.17838    0   75  574.67489  441.17838  23.2%     -    0s\n",
      "H    0     0                     573.2299743  441.17838  23.0%     -    0s\n",
      "     0     0  441.79640    0   82  573.22997  441.79640  22.9%     -    0s\n",
      "     0     0  441.79640    0   78  573.22997  441.79640  22.9%     -    0s\n",
      "H    0     0                     565.7263083  441.79640  21.9%     -    0s\n",
      "     0     0  441.79640    0   76  565.72631  441.79640  21.9%     -    0s\n",
      "     0     0  441.79640    0   78  565.72631  441.79640  21.9%     -    0s\n",
      "     0     0  441.79640    0   78  565.72631  441.79640  21.9%     -    0s\n",
      "     0     0  441.79640    0   59  565.72631  441.79640  21.9%     -    0s\n",
      "     0     0  441.79640    0   61  565.72631  441.79640  21.9%     -    0s\n",
      "     0     0  441.79640    0   67  565.72631  441.79640  21.9%     -    0s\n",
      "     0     0  441.79640    0   69  565.72631  441.79640  21.9%     -    0s\n",
      "     0     0  442.01535    0   69  565.72631  442.01535  21.9%     -    0s\n",
      "     0     0  442.01535    0   72  565.72631  442.01535  21.9%     -    0s\n",
      "     0     0  442.01535    0   72  565.72631  442.01535  21.9%     -    0s\n",
      "H    0     0                     552.5390334  442.01535  20.0%     -    0s\n",
      "     0     0  442.01535    0   71  552.53903  442.01535  20.0%     -    0s\n",
      "     0     0  442.01535    0   60  552.53903  442.01535  20.0%     -    0s\n",
      "     0     0  442.01535    0   63  552.53903  442.01535  20.0%     -    0s\n",
      "     0     0  442.01535    0   64  552.53903  442.01535  20.0%     -    0s\n",
      "     0     0  442.01535    0   61  552.53903  442.01535  20.0%     -    0s\n",
      "     0     2  447.39717    0   61  552.53903  447.39717  19.0%     -    0s\n",
      "H  396   425                     546.3882148  450.43742  17.6%   9.2    0s\n",
      "H  630   573                     537.7115438  450.43742  16.2%   7.8    0s\n",
      "H  848   688                     508.3726814  450.48561  11.4%   7.3    0s\n",
      "H  849   688                     508.3411469  450.48561  11.4%   7.3    0s\n",
      "H  942   590                     498.0065262  450.48561  9.54%   6.9    0s\n",
      "H 1556   957                     485.3638823  454.18010  6.42%   8.5    1s\n",
      "H 1563   909                     466.0733251  454.18010  2.55%   8.6    1s\n",
      "\n",
      "Cutting planes:\n",
      "  Learned: 12\n",
      "  Gomory: 20\n",
      "  Implied bound: 23\n",
      "  Projected implied bound: 3\n",
      "  Clique: 1\n",
      "  MIR: 6\n",
      "  StrongCG: 1\n",
      "  Flow cover: 37\n",
      "  Inf proof: 26\n",
      "  Zero half: 25\n",
      "  RLT: 5\n",
      "  Relax-and-lift: 3\n",
      "\n",
      "Explored 7727 nodes (83165 simplex iterations) in 2.92 seconds\n",
      "Thread count was 16 (of 16 available processors)\n",
      "\n",
      "Solution count 10: 466.073 485.364 498.007 ... 573.23\n",
      "\n",
      "Optimal solution found (tolerance 1.00e-03)\n",
      "Best objective 4.660733251179e+02, best bound 4.660733251179e+02, gap 0.0000%\n"
     ]
    }
   ],
   "source": [
    "# Set model parameters\n",
    "m.Params.timelimit = 300.0 # run for at most 300 seconds\n",
    "m.Params.MIPGap = 0.001 # terminate once a 0.01% optimality gap is reached\n",
    "\n",
    "# Optimize model\n",
    "m.optimize()"
   ]
  },
  {
   "cell_type": "markdown",
   "metadata": {},
   "source": [
    "__Plot Solution__"
   ]
  },
  {
   "cell_type": "code",
   "execution_count": 17,
   "metadata": {},
   "outputs": [
    {
     "data": {
      "image/png": "[encoded data removed]",
      "text/plain": [
       "<Figure size 432x288 with 1 Axes>"
      ]
     },
     "metadata": {
      "needs_background": "light"
     },
     "output_type": "display_data"
    },
    {
     "name": "stdout",
     "output_type": "stream",
     "text": [
      "Total Cost: 466.073\n"
     ]
    }
   ],
   "source": [
    "# Plot solution\n",
    "print_TSP(customers,X)\n",
    "# Print total cost\n",
    "print('Total Cost: %g' % m.objVal)"
   ]
  },
  {
   "cell_type": "code",
   "execution_count": null,
   "metadata": {},
   "outputs": [],
   "source": []
  }
 ],
 "metadata": {
  "kernelspec": {
   "display_name": "Python 3",
   "language": "python",
   "name": "python3"
  },
  "language_info": {
   "codemirror_mode": {
    "name": "ipython",
    "version": 3
   },
   "file_extension": ".py",
   "mimetype": "text/x-python",
   "name": "python",
   "nbconvert_exporter": "python",
   "pygments_lexer": "ipython3",
   "version": "3.6.13"
  },
  "toc": {
   "nav_menu": {},
   "number_sections": true,
   "sideBar": true,
   "skip_h1_title": false,
   "toc_cell": false,
   "toc_position": {},
   "toc_section_display": "block",
   "toc_window_display": false
  }
 },
 "nbformat": 4,
 "nbformat_minor": 4
}
